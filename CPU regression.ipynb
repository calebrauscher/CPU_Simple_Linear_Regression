{
 "cells": [
  {
   "cell_type": "code",
   "execution_count": 261,
   "metadata": {},
   "outputs": [],
   "source": [
    "import pandas as pd\n",
    "import numpy as np\n",
    "import matplotlib.pyplot as plt\n",
    "import statsmodels.api as sm\n",
    "from statsmodels.formula.api import ols\n",
    "import statsmodels.stats.multicomp as multi\n",
    "from scipy import stats\n",
    "import seaborn as sns\n",
    "import pylab\n",
    "import warnings\n",
    "warnings.filterwarnings('ignore')"
   ]
  },
  {
   "attachments": {},
   "cell_type": "markdown",
   "metadata": {},
   "source": [
    "## CPUs based on the maximum number of channels in the CPU Exploratory Data Analysis\n",
    "\n",
    "We are going to use regression analysis to estimate the performance of CPUs based on the maximum number of channels in the CPU. This data set comes from the UCI Machine Learning Repository.\n",
    "\n",
    "The data file includes the following columns:\n",
    "\n",
    "- *vendor*: vendor of the CPU\n",
    "- *chmax*: maximum channels in the CPU\n",
    "- *performance*: published relative performance of the CPU\n",
    "\n",
    "a. Use a scatter plot to describe the relationship between CPU performance and the maximum number of channels."
   ]
  },
  {
   "cell_type": "code",
   "execution_count": 262,
   "metadata": {
    "collapsed": true
   },
   "outputs": [
    {
     "data": {
      "text/plain": [
       "Text(0, 0.5, 'published relative performance of the CPU')"
      ]
     },
     "execution_count": 262,
     "metadata": {},
     "output_type": "execute_result"
    },
    {
     "data": {
      "image/png": "[encoded data removed]",
      "text/plain": [
       "<Figure size 432x288 with 1 Axes>"
      ]
     },
     "metadata": {
      "needs_background": "light"
     },
     "output_type": "display_data"
    }
   ],
   "source": [
    "data = pd.read_csv(\"machine.csv\")\n",
    "plt.scatter(data[\"chmax\"], data[\"performance\"])\n",
    "plt.xlabel(\"maximum channels in the CPU\")\n",
    "plt.ylabel(\"published relative performance of the CPU\")\n"
   ]
  },
  {
   "attachments": {},
   "cell_type": "markdown",
   "metadata": {},
   "source": [
    "b. What is the value of the correlation coefficient between _performance_ and _chmax_?"
   ]
  },
  {
   "cell_type": "code",
   "execution_count": 263,
   "metadata": {
    "collapsed": true
   },
   "outputs": [
    {
     "data": {
      "text/plain": [
       "array([[1.        , 0.60520929],\n",
       "       [0.60520929, 1.        ]])"
      ]
     },
     "execution_count": 263,
     "metadata": {},
     "output_type": "execute_result"
    }
   ],
   "source": [
    "corr = np.corrcoef(data[\"chmax\"], data[\"performance\"])\n",
    "corr"
   ]
  },
  {
   "attachments": {},
   "cell_type": "markdown",
   "metadata": {},
   "source": [
    "The data shows a strong correlation between performance and chmax with a correlation coefficient of 0.605. A simple linear regression model could be used since it is easy to interpret but we are likely going to want to attempt a Box-Cox transformation to reduce the heteroskedasticity.\n",
    "\n",
    "## Fitting the Simple Linear Regression Model"
   ]
  },
  {
   "cell_type": "code",
   "execution_count": 264,
   "metadata": {
    "collapsed": true
   },
   "outputs": [
    {
     "name": "stdout",
     "output_type": "stream",
     "text": [
      "                            OLS Regression Results                            \n",
      "==============================================================================\n",
      "Dep. Variable:            performance   R-squared:                       0.366\n",
      "Model:                            OLS   Adj. R-squared:                  0.363\n",
      "Method:                 Least Squares   F-statistic:                     119.6\n",
      "Date:                Tue, 27 Dec 2022   Prob (F-statistic):           2.85e-22\n",
      "Time:                        22:08:48   Log-Likelihood:                -1310.2\n",
      "No. Observations:                 209   AIC:                             2624.\n",
      "Df Residuals:                     207   BIC:                             2631.\n",
      "Df Model:                           1                                         \n",
      "Covariance Type:            nonrobust                                         \n",
      "==============================================================================\n",
      "                 coef    std err          t      P>|t|      [0.025      0.975]\n",
      "------------------------------------------------------------------------------\n",
      "Intercept     37.2252     10.859      3.428      0.001      15.817      58.633\n",
      "chmax          3.7441      0.342     10.938      0.000       3.069       4.419\n",
      "==============================================================================\n",
      "Omnibus:                      124.897   Durbin-Watson:                   0.960\n",
      "Prob(Omnibus):                  0.000   Jarque-Bera (JB):             1511.432\n",
      "Skew:                           2.020   Prob(JB):                         0.00\n",
      "Kurtosis:                      15.539   Cond. No.                         38.8\n",
      "==============================================================================\n",
      "\n",
      "Notes:\n",
      "[1] Standard Errors assume that the covariance matrix of the errors is correctly specified.\n"
     ]
    }
   ],
   "source": [
    "model1 = ols(\"performance ~ chmax\", data=data).fit()\n",
    "print(model1.summary())"
   ]
  },
  {
   "attachments": {},
   "cell_type": "markdown",
   "metadata": {},
   "source": [
    "## Checking the Assumptions of the Model\n",
    "\n",
    "a. Scatterplot of the data with *chmax* on the x-axis and *performance* on the y-axis"
   ]
  },
  {
   "cell_type": "code",
   "execution_count": 265,
   "metadata": {
    "collapsed": true
   },
   "outputs": [
    {
     "data": {
      "text/plain": [
       "[<matplotlib.lines.Line2D at 0x1629272fbe0>]"
      ]
     },
     "execution_count": 265,
     "metadata": {},
     "output_type": "execute_result"
    },
    {
     "data": {
      "image/png": "[encoded data removed]",
      "text/plain": [
       "<Figure size 432x288 with 1 Axes>"
      ]
     },
     "metadata": {
      "needs_background": "light"
     },
     "output_type": "display_data"
    }
   ],
   "source": [
    "plt.plot(data[\"chmax\"], data[\"performance\"], \"o\")\n",
    "m, b = np.polyfit(data[\"chmax\"], data[\"performance\"], 1)\n",
    "\n",
    "plt.plot(data[\"chmax\"], m * data[\"chmax\"] + b)\n"
   ]
  },
  {
   "attachments": {},
   "cell_type": "markdown",
   "metadata": {},
   "source": [
    "**Model Assumption(s) it checks:**\n",
    "\n",
    "The scatter plot of *chmax* and *performance* is used to check for linearity.\n",
    "\n",
    "**Interpretation:**\n",
    "\n",
    "It isn’t very clear if the data is linearly related. It is generally linear but there are some data points in the middle that make it a little more difficult to confirm.\n",
    "\n",
    "b. Residual plot - a plot of the residuals, $\\hat\\epsilon_i$, versus the fitted values, $\\hat{y}_i$"
   ]
  },
  {
   "cell_type": "code",
   "execution_count": 266,
   "metadata": {
    "collapsed": true
   },
   "outputs": [
    {
     "data": {
      "text/plain": [
       "[Text(0.5, 0, 'Fitted Values'), Text(0, 0.5, 'Residuals')]"
      ]
     },
     "execution_count": 266,
     "metadata": {},
     "output_type": "execute_result"
    },
    {
     "data": {
      "image/png": "[encoded data removed]",
      "text/plain": [
       "<Figure size 432x288 with 1 Axes>"
      ]
     },
     "metadata": {
      "needs_background": "light"
     },
     "output_type": "display_data"
    }
   ],
   "source": [
    "ax = sns.residplot(x=\"chmax\", y=\"performance\", data=data)\n",
    "ax.set(xlabel=\"Fitted Values\", ylabel=\"Residuals\")"
   ]
  },
  {
   "attachments": {},
   "cell_type": "markdown",
   "metadata": {},
   "source": [
    "**Model Assumption(s) it checks:**\n",
    "\n",
    "The Residuals versus fitted values plot is used to check constant variance.\n",
    "\n",
    "**Interpretation:**\n",
    "\n",
    "Although at first glance, there appear to be clusters at the lower ranges, this is a feature of the data set. Most of the data points have small predictor values, which is why most of the fitted values are at the lower range. The plot does show heteroscedasticity with variance increasing as the fitted values increase. This suggests that the constant variance assumption may not hold.\n",
    "\n",
    "\n",
    "c. Histogram and q-q plot of the residuals"
   ]
  },
  {
   "cell_type": "code",
   "execution_count": 267,
   "metadata": {
    "collapsed": true
   },
   "outputs": [
    {
     "data": {
      "image/png": "[encoded data removed]",
      "text/plain": [
       "<Figure size 432x288 with 1 Axes>"
      ]
     },
     "metadata": {
      "needs_background": "light"
     },
     "output_type": "display_data"
    },
    {
     "data": {
      "image/png": "[encoded data removed]",
      "text/plain": [
       "<Figure size 432x288 with 1 Axes>"
      ]
     },
     "metadata": {
      "needs_background": "light"
     },
     "output_type": "display_data"
    }
   ],
   "source": [
    "plt.hist(model1.resid)\n",
    "plt.xlabel(\"Residuals\")\n",
    "plt.ylabel(\"Count\")\n",
    "\n",
    "sm.qqplot(model1.resid_pearson, line=\"45\")\n",
    "pylab.show()\n"
   ]
  },
  {
   "attachments": {},
   "cell_type": "markdown",
   "metadata": {},
   "source": [
    "**Model Assumption(s) it checks:**\n",
    "\n",
    "The histogram and qq plot check for normality.\n",
    "\n",
    "**Interpretation:**\n",
    "\n",
    "It does not appear that the data is normal as it extends to each end."
   ]
  },
  {
   "attachments": {},
   "cell_type": "markdown",
   "metadata": {},
   "source": [
    "## Improving the Fit\n",
    "\n",
    "a. Use a Box-Cox transformation to find the optimal $\\lambda$ value rounded to the nearest half integer."
   ]
  },
  {
   "cell_type": "code",
   "execution_count": 268,
   "metadata": {
    "collapsed": true
   },
   "outputs": [
    {
     "data": {
      "text/plain": [
       "0.0"
      ]
     },
     "execution_count": 268,
     "metadata": {},
     "output_type": "execute_result"
    }
   ],
   "source": [
    "y_fitted, best_lambda = stats.boxcox(data[\"performance\"])\n",
    "round(best_lambda * 0.5) / 0.5\n"
   ]
  },
  {
   "attachments": {},
   "cell_type": "markdown",
   "metadata": {},
   "source": [
    "With an optimal $\\lambda$ of 0, this implies the BoxCox transformation recommended is a log(x).\n",
    "\n",
    "b. Create a linear regression model, named *model2*, that uses the log transformed *performance* as the response, and the log transformed *chmax* as the predictor."
   ]
  },
  {
   "cell_type": "code",
   "execution_count": 269,
   "metadata": {
    "collapsed": true
   },
   "outputs": [
    {
     "data": {
      "text/html": [
       "<table class=\"simpletable\">\n",
       "<caption>OLS Regression Results</caption>\n",
       "<tr>\n",
       "  <th>Dep. Variable:</th>     <td>log_performance</td> <th>  R-squared:         </th> <td>   0.410</td>\n",
       "</tr>\n",
       "<tr>\n",
       "  <th>Model:</th>                   <td>OLS</td>       <th>  Adj. R-squared:    </th> <td>   0.407</td>\n",
       "</tr>\n",
       "<tr>\n",
       "  <th>Method:</th>             <td>Least Squares</td>  <th>  F-statistic:       </th> <td>   144.0</td>\n",
       "</tr>\n",
       "<tr>\n",
       "  <th>Date:</th>             <td>Tue, 27 Dec 2022</td> <th>  Prob (F-statistic):</th> <td>1.57e-25</td>\n",
       "</tr>\n",
       "<tr>\n",
       "  <th>Time:</th>                 <td>22:08:49</td>     <th>  Log-Likelihood:    </th> <td> -250.74</td>\n",
       "</tr>\n",
       "<tr>\n",
       "  <th>No. Observations:</th>      <td>   209</td>      <th>  AIC:               </th> <td>   505.5</td>\n",
       "</tr>\n",
       "<tr>\n",
       "  <th>Df Residuals:</th>          <td>   207</td>      <th>  BIC:               </th> <td>   512.2</td>\n",
       "</tr>\n",
       "<tr>\n",
       "  <th>Df Model:</th>              <td>     1</td>      <th>                     </th>     <td> </td>   \n",
       "</tr>\n",
       "<tr>\n",
       "  <th>Covariance Type:</th>      <td>nonrobust</td>    <th>                     </th>     <td> </td>   \n",
       "</tr>\n",
       "</table>\n",
       "<table class=\"simpletable\">\n",
       "<tr>\n",
       "      <td></td>         <th>coef</th>     <th>std err</th>      <th>t</th>      <th>P>|t|</th>  <th>[0.025</th>    <th>0.975]</th>  \n",
       "</tr>\n",
       "<tr>\n",
       "  <th>Intercept</th> <td>    2.4765</td> <td>    0.142</td> <td>   17.499</td> <td> 0.000</td> <td>    2.198</td> <td>    2.756</td>\n",
       "</tr>\n",
       "<tr>\n",
       "  <th>log_chmax</th> <td>    0.6482</td> <td>    0.054</td> <td>   12.001</td> <td> 0.000</td> <td>    0.542</td> <td>    0.755</td>\n",
       "</tr>\n",
       "</table>\n",
       "<table class=\"simpletable\">\n",
       "<tr>\n",
       "  <th>Omnibus:</th>       <td> 3.484</td> <th>  Durbin-Watson:     </th> <td>   0.937</td>\n",
       "</tr>\n",
       "<tr>\n",
       "  <th>Prob(Omnibus):</th> <td> 0.175</td> <th>  Jarque-Bera (JB):  </th> <td>   2.324</td>\n",
       "</tr>\n",
       "<tr>\n",
       "  <th>Skew:</th>          <td> 0.011</td> <th>  Prob(JB):          </th> <td>   0.313</td>\n",
       "</tr>\n",
       "<tr>\n",
       "  <th>Kurtosis:</th>      <td> 2.484</td> <th>  Cond. No.          </th> <td>    7.48</td>\n",
       "</tr>\n",
       "</table><br/><br/>Notes:<br/>[1] Standard Errors assume that the covariance matrix of the errors is correctly specified."
      ],
      "text/plain": [
       "<class 'statsmodels.iolib.summary.Summary'>\n",
       "\"\"\"\n",
       "                            OLS Regression Results                            \n",
       "==============================================================================\n",
       "Dep. Variable:        log_performance   R-squared:                       0.410\n",
       "Model:                            OLS   Adj. R-squared:                  0.407\n",
       "Method:                 Least Squares   F-statistic:                     144.0\n",
       "Date:                Tue, 27 Dec 2022   Prob (F-statistic):           1.57e-25\n",
       "Time:                        22:08:49   Log-Likelihood:                -250.74\n",
       "No. Observations:                 209   AIC:                             505.5\n",
       "Df Residuals:                     207   BIC:                             512.2\n",
       "Df Model:                           1                                         \n",
       "Covariance Type:            nonrobust                                         \n",
       "==============================================================================\n",
       "                 coef    std err          t      P>|t|      [0.025      0.975]\n",
       "------------------------------------------------------------------------------\n",
       "Intercept      2.4765      0.142     17.499      0.000       2.198       2.756\n",
       "log_chmax      0.6482      0.054     12.001      0.000       0.542       0.755\n",
       "==============================================================================\n",
       "Omnibus:                        3.484   Durbin-Watson:                   0.937\n",
       "Prob(Omnibus):                  0.175   Jarque-Bera (JB):                2.324\n",
       "Skew:                           0.011   Prob(JB):                        0.313\n",
       "Kurtosis:                       2.484   Cond. No.                         7.48\n",
       "==============================================================================\n",
       "\n",
       "Notes:\n",
       "[1] Standard Errors assume that the covariance matrix of the errors is correctly specified.\n",
       "\"\"\""
      ]
     },
     "execution_count": 269,
     "metadata": {},
     "output_type": "execute_result"
    }
   ],
   "source": [
    "data[\"log_chmax\"] = np.log(data[\"chmax\"] + 1)\n",
    "data[\"log_performance\"] = np.log(data[\"performance\"])\n",
    "\n",
    "model2 = ols(\"log_performance ~ log_chmax\", data=data).fit()\n",
    "model2.summary()"
   ]
  },
  {
   "attachments": {},
   "cell_type": "markdown",
   "metadata": {},
   "source": [
    "c. Compare the R-squared values of *model1* and *model2*.  Comparing model1 to model2 the $R^2$ value increased from 0.366 to 0.41. This indicates that the explanatory power of the model did increase.\n",
    "\n",
    "The log transformed model greatly improves the linearity/mean zero assumption."
   ]
  },
  {
   "cell_type": "code",
   "execution_count": 270,
   "metadata": {
    "collapsed": true
   },
   "outputs": [
    {
     "data": {
      "text/plain": [
       "[<matplotlib.lines.Line2D at 0x162928e8a00>]"
      ]
     },
     "execution_count": 270,
     "metadata": {},
     "output_type": "execute_result"
    },
    {
     "data": {
      "image/png": "[encoded data removed]",
      "text/plain": [
       "<Figure size 432x288 with 1 Axes>"
      ]
     },
     "metadata": {
      "needs_background": "light"
     },
     "output_type": "display_data"
    }
   ],
   "source": [
    "plt.plot(data[\"log_chmax\"], data[\"log_performance\"], \"o\")\n",
    "m, b = np.polyfit(data[\"log_chmax\"], data[\"log_performance\"], 1)\n",
    "\n",
    "plt.plot(data[\"log_chmax\"], m * data[\"log_chmax\"] + b)\n"
   ]
  },
  {
   "attachments": {},
   "cell_type": "markdown",
   "metadata": {},
   "source": [
    "There appears to be homoskedasticity in the residual plot. This suggests that the constant variance assumption holds."
   ]
  },
  {
   "cell_type": "code",
   "execution_count": 271,
   "metadata": {},
   "outputs": [
    {
     "data": {
      "text/plain": [
       "[Text(0.5, 0, 'Fitted Values'), Text(0, 0.5, 'Residuals')]"
      ]
     },
     "execution_count": 271,
     "metadata": {},
     "output_type": "execute_result"
    },
    {
     "data": {
      "image/png": "[encoded data removed]",
      "text/plain": [
       "<Figure size 432x288 with 1 Axes>"
      ]
     },
     "metadata": {
      "needs_background": "light"
     },
     "output_type": "display_data"
    }
   ],
   "source": [
    "ax = sns.residplot(x=\"log_chmax\", y=\"log_performance\", data=data)\n",
    "ax.set(xlabel=\"Fitted Values\", ylabel=\"Residuals\")"
   ]
  },
  {
   "attachments": {},
   "cell_type": "markdown",
   "metadata": {},
   "source": [
    "Both the histogram and the quantile-quantile plot of the residuals suggests that the normality assumption holds. All model assumptions appear to hold using the log-transformed data."
   ]
  },
  {
   "cell_type": "code",
   "execution_count": 272,
   "metadata": {},
   "outputs": [
    {
     "data": {
      "image/png": "[encoded data removed]",
      "text/plain": [
       "<Figure size 432x288 with 1 Axes>"
      ]
     },
     "metadata": {
      "needs_background": "light"
     },
     "output_type": "display_data"
    },
    {
     "data": {
      "image/png": "[encoded data removed]",
      "text/plain": [
       "<Figure size 432x288 with 1 Axes>"
      ]
     },
     "metadata": {
      "needs_background": "light"
     },
     "output_type": "display_data"
    }
   ],
   "source": [
    "plt.hist(model2.resid)\n",
    "plt.xlabel(\"Residuals\")\n",
    "plt.ylabel(\"Count\")\n",
    "\n",
    "sm.qqplot(model2.resid_pearson, line=\"45\")\n",
    "pylab.show()"
   ]
  },
  {
   "attachments": {},
   "cell_type": "markdown",
   "metadata": {},
   "source": [
    "## Prediction\n",
    "\n",
    "Suppose we are interested in predicting CPU performance when `chmax = 128`.  Make a prediction using both *model1* and *model2* and provide the 95% prediction interval of each prediction on the original scale of the response, *performance*."
   ]
  },
  {
   "cell_type": "code",
   "execution_count": 273,
   "metadata": {
    "collapsed": true
   },
   "outputs": [
    {
     "data": {
      "text/html": [
       "<div>\n",
       "<style scoped>\n",
       "    .dataframe tbody tr th:only-of-type {\n",
       "        vertical-align: middle;\n",
       "    }\n",
       "\n",
       "    .dataframe tbody tr th {\n",
       "        vertical-align: top;\n",
       "    }\n",
       "\n",
       "    .dataframe thead th {\n",
       "        text-align: right;\n",
       "    }\n",
       "</style>\n",
       "<table border=\"1\" class=\"dataframe\">\n",
       "  <thead>\n",
       "    <tr style=\"text-align: right;\">\n",
       "      <th></th>\n",
       "      <th>mean</th>\n",
       "      <th>mean_se</th>\n",
       "      <th>mean_ci_lower</th>\n",
       "      <th>mean_ci_upper</th>\n",
       "      <th>obs_ci_lower</th>\n",
       "      <th>obs_ci_upper</th>\n",
       "    </tr>\n",
       "  </thead>\n",
       "  <tbody>\n",
       "    <tr>\n",
       "      <th>0</th>\n",
       "      <td>516.468519</td>\n",
       "      <td>38.595926</td>\n",
       "      <td>440.377021</td>\n",
       "      <td>592.560016</td>\n",
       "      <td>252.251931</td>\n",
       "      <td>780.685107</td>\n",
       "    </tr>\n",
       "  </tbody>\n",
       "</table>\n",
       "</div>"
      ],
      "text/plain": [
       "         mean    mean_se  mean_ci_lower  mean_ci_upper  obs_ci_lower  \\\n",
       "0  516.468519  38.595926     440.377021     592.560016    252.251931   \n",
       "\n",
       "   obs_ci_upper  \n",
       "0    780.685107  "
      ]
     },
     "execution_count": 273,
     "metadata": {},
     "output_type": "execute_result"
    }
   ],
   "source": [
    "model1.get_prediction(exog=dict(chmax=128)).summary_frame(alpha=0.05)"
   ]
  },
  {
   "cell_type": "code",
   "execution_count": 274,
   "metadata": {},
   "outputs": [
    {
     "data": {
      "text/html": [
       "<div>\n",
       "<style scoped>\n",
       "    .dataframe tbody tr th:only-of-type {\n",
       "        vertical-align: middle;\n",
       "    }\n",
       "\n",
       "    .dataframe tbody tr th {\n",
       "        vertical-align: top;\n",
       "    }\n",
       "\n",
       "    .dataframe thead th {\n",
       "        text-align: right;\n",
       "    }\n",
       "</style>\n",
       "<table border=\"1\" class=\"dataframe\">\n",
       "  <thead>\n",
       "    <tr style=\"text-align: right;\">\n",
       "      <th></th>\n",
       "      <th>mean</th>\n",
       "      <th>mean_se</th>\n",
       "      <th>mean_ci_lower</th>\n",
       "      <th>mean_ci_upper</th>\n",
       "      <th>obs_ci_lower</th>\n",
       "      <th>obs_ci_upper</th>\n",
       "    </tr>\n",
       "  </thead>\n",
       "  <tbody>\n",
       "    <tr>\n",
       "      <th>0</th>\n",
       "      <td>276.32558</td>\n",
       "      <td>1.154116</td>\n",
       "      <td>208.303548</td>\n",
       "      <td>366.560371</td>\n",
       "      <td>54.908774</td>\n",
       "      <td>1390.594264</td>\n",
       "    </tr>\n",
       "  </tbody>\n",
       "</table>\n",
       "</div>"
      ],
      "text/plain": [
       "        mean   mean_se  mean_ci_lower  mean_ci_upper  obs_ci_lower  \\\n",
       "0  276.32558  1.154116     208.303548     366.560371     54.908774   \n",
       "\n",
       "   obs_ci_upper  \n",
       "0   1390.594264  "
      ]
     },
     "execution_count": 274,
     "metadata": {},
     "output_type": "execute_result"
    }
   ],
   "source": [
    "model2.get_prediction(exog=dict(log_chmax=np.log(128))).summary_frame(\n",
    "    alpha=0.05\n",
    ").applymap(lambda x: np.exp(x))\n"
   ]
  },
  {
   "attachments": {},
   "cell_type": "markdown",
   "metadata": {},
   "source": [
    "When there are a maximum of 128 channels in CPU, model1 predicts a CPU performance of 516.4685 with a lower bound of 252 and an upper bound of 781 for the 95% prediction interval, while model2 predicts a CPU performance of 276.326 with a lower bound of 55 and an upper bound of 1391 for the 95% prediction interval.\n",
    "\n",
    "Based on the goodness of fit assessments, model1’s prediction interval is likely to be inaccurate. Hence, model2’s prediction interval seems to be much more reliable than model1’s.\n",
    "\n",
    "# Part C. ANOVA\n",
    "\n",
    "There are over 20 vendors in the data set.  To simplify the task, we are going to limit our analysis to three vendors, specifically, honeywell, hp, and nas."
   ]
  },
  {
   "cell_type": "code",
   "execution_count": 275,
   "metadata": {
    "collapsed": true
   },
   "outputs": [],
   "source": [
    "# Filter for honeywell, hp, and nas\n",
    "data2 = data.query(\"vendor in ('honeywell', 'hp', 'nas')\")\n",
    "data2.loc[:, \"vendor\"] = data2[\"vendor\"].astype(\"category\")\n"
   ]
  },
  {
   "attachments": {},
   "cell_type": "markdown",
   "metadata": {},
   "source": [
    "1. Create a boxplot of *performance* and *vendor*, with *performance* on the vertical axis. "
   ]
  },
  {
   "cell_type": "code",
   "execution_count": 276,
   "metadata": {
    "collapsed": true
   },
   "outputs": [
    {
     "data": {
      "text/plain": [
       "<AxesSubplot: title={'center': 'performance'}, xlabel='[vendor]'>"
      ]
     },
     "execution_count": 276,
     "metadata": {},
     "output_type": "execute_result"
    },
    {
     "data": {
      "image/png": "[encoded data removed]",
      "text/plain": [
       "<Figure size 432x288 with 1 Axes>"
      ]
     },
     "metadata": {
      "needs_background": "light"
     },
     "output_type": "display_data"
    }
   ],
   "source": [
    "data2[[\"vendor\", \"performance\"]].boxplot(by=\"vendor\")"
   ]
  },
  {
   "attachments": {},
   "cell_type": "markdown",
   "metadata": {},
   "source": [
    "There is not much variation in performance from HP and Honeywell in comparison to NAS. The best HP and Honeywell CPUs are in the bottom quartile of NAS. Honeywell and NAS have a few CPUs that are far greater than the 3rd quartile group.\n",
    "\n",
    "2. Perform an ANOVA F-test on the means of the three vendors.  Using an $\\alpha$-level of 0.05, can we reject the null hypothesis that the means of the three vendors are equal?"
   ]
  },
  {
   "cell_type": "code",
   "execution_count": 277,
   "metadata": {
    "collapsed": true
   },
   "outputs": [
    {
     "data": {
      "text/html": [
       "<div>\n",
       "<style scoped>\n",
       "    .dataframe tbody tr th:only-of-type {\n",
       "        vertical-align: middle;\n",
       "    }\n",
       "\n",
       "    .dataframe tbody tr th {\n",
       "        vertical-align: top;\n",
       "    }\n",
       "\n",
       "    .dataframe thead th {\n",
       "        text-align: right;\n",
       "    }\n",
       "</style>\n",
       "<table border=\"1\" class=\"dataframe\">\n",
       "  <thead>\n",
       "    <tr style=\"text-align: right;\">\n",
       "      <th></th>\n",
       "      <th>sum_sq</th>\n",
       "      <th>df</th>\n",
       "      <th>F</th>\n",
       "      <th>PR(&gt;F)</th>\n",
       "    </tr>\n",
       "  </thead>\n",
       "  <tbody>\n",
       "    <tr>\n",
       "      <th>vendor</th>\n",
       "      <td>154493.624446</td>\n",
       "      <td>2.0</td>\n",
       "      <td>6.026501</td>\n",
       "      <td>0.005527</td>\n",
       "    </tr>\n",
       "    <tr>\n",
       "      <th>Residual</th>\n",
       "      <td>461442.734529</td>\n",
       "      <td>36.0</td>\n",
       "      <td>NaN</td>\n",
       "      <td>NaN</td>\n",
       "    </tr>\n",
       "  </tbody>\n",
       "</table>\n",
       "</div>"
      ],
      "text/plain": [
       "                 sum_sq    df         F    PR(>F)\n",
       "vendor    154493.624446   2.0  6.026501  0.005527\n",
       "Residual  461442.734529  36.0       NaN       NaN"
      ]
     },
     "execution_count": 277,
     "metadata": {},
     "output_type": "execute_result"
    }
   ],
   "source": [
    "aov = sm.stats.anova_lm(ols(\"performance ~ vendor\", data=data2).fit(), typ=2)\n",
    "aov"
   ]
  },
  {
   "attachments": {},
   "cell_type": "markdown",
   "metadata": {},
   "source": [
    "Since the p-value is less than 0.05 we can reject the null hypothesis and conclude that there are significant differences between the vendors.\n",
    "\n",
    "3. Perform a Tukey pairwise comparison between the three vendors. Using an $\\alpha$-level of 0.05."
   ]
  },
  {
   "cell_type": "code",
   "execution_count": 278,
   "metadata": {
    "collapsed": true
   },
   "outputs": [
    {
     "name": "stdout",
     "output_type": "stream",
     "text": [
      "   Multiple Comparison of Means - Tukey HSD, FWER=0.05    \n",
      "==========================================================\n",
      "  group1  group2 meandiff p-adj    lower    upper   reject\n",
      "----------------------------------------------------------\n",
      "honeywell     hp  -24.033 0.8935 -153.7676 105.7017  False\n",
      "honeywell    nas 116.4332 0.0189   16.8266 216.0398   True\n",
      "       hp    nas 140.4662 0.0214   18.1109 262.8214   True\n",
      "----------------------------------------------------------\n"
     ]
    }
   ],
   "source": [
    "comparison = multi.MultiComparison(data2[\"performance\"], data2[\"vendor\"])\n",
    "results = comparison.tukeyhsd()\n",
    "print(results)"
   ]
  },
  {
   "attachments": {},
   "cell_type": "markdown",
   "metadata": {},
   "source": [
    "Nas-honeywell and nas-hp are the two pairs of vendors that have statistically significantly different means at the significance level of 0.05 since the p-values of the pairwise comparisons are smaller than the α-level of 0.05; In fact, the intervals fall completely on the positive side and don’t include zero. In the context of the problem, we can conclude that the mean CPU performance of nas is significantly higher than the mean CPU performance of the other two vendors honeywell and hp."
   ]
  }
 ],
 "metadata": {
  "jupytext": {
   "cell_metadata_filter": "tags,name,-all",
   "main_language": "R",
   "notebook_metadata_filter": "-all"
  },
  "kernelspec": {
   "display_name": "Python 3",
   "language": "python",
   "name": "python3"
  },
  "language_info": {
   "codemirror_mode": {
    "name": "ipython",
    "version": 3
   },
   "file_extension": ".py",
   "mimetype": "text/x-python",
   "name": "python",
   "nbconvert_exporter": "python",
   "pygments_lexer": "ipython3",
   "version": "3.9.0"
  },
  "vscode": {
   "interpreter": {
    "hash": "81794d4967e6c3204c66dcd87b604927b115b27c00565d3d43f05ba2f3a2cb0d"
   }
  }
 },
 "nbformat": 4,
 "nbformat_minor": 2
}
